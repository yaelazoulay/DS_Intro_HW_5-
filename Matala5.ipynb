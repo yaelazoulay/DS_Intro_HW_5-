{
 "cells": [
  {
   "cell_type": "code",
   "execution_count": 44,
   "id": "4d87c1a2",
   "metadata": {},
   "outputs": [
    {
     "name": "stdout",
     "output_type": "stream",
     "text": [
      "         city                           city_LP\n",
      "0     Antalya       mediterranean-coast/antalya\n",
      "1      Athens                            Athens\n",
      "2   Ayia-napa  the-republic-of-cyprus/Agia-napa\n",
      "3     Bangkok                           Bangkok\n",
      "4   Barcelona                         Barcelona\n",
      "..        ...                               ...\n",
      "71     Venice                            Venice\n",
      "72     Vienna                            Vienna\n",
      "73     Warsaw                            Warsaw\n",
      "74  Zakynthos                         Zakynthos\n",
      "75     Zurich                            Zurich\n",
      "\n",
      "[76 rows x 2 columns]\n"
     ]
    }
   ],
   "source": [
    "import pandas as pd\n",
    "import requests\n",
    "data = pd.read_csv(\"C:\\\\Users\\\\aviel\\\\Python\\\\Homework\\\\destinations_LP_crawler_Ex5.csv\",encoding = 'ISO-8859-1')\n",
    "print(data)"
   ]
  },
  {
   "cell_type": "code",
   "execution_count": 45,
   "id": "035a4aa0",
   "metadata": {},
   "outputs": [],
   "source": [
    "\n",
    "L = list()"
   ]
  },
  {
   "cell_type": "code",
   "execution_count": 46,
   "id": "da55aa69",
   "metadata": {},
   "outputs": [],
   "source": [
    "for i in data['city']:\n",
    "    address = i\n",
    "    if  address == 'Krakï¿' :\n",
    "        address = 'krakow'\n",
    "    api_key = \"INSERT KEY\"\n",
    "\n",
    "    url=\"https://maps.googleapis.com/maps/api/geocode/json?address=%s&key=%s\" % (address,api_key)\n",
    "   \n",
    "    try:\n",
    "        response = requests.get(url)\n",
    "        if not response.status_code == 200:\n",
    "            print(\"HTTP error\",response.status_code)\n",
    "        else:\n",
    "                try:\n",
    "                    response_data = response.json()\n",
    "                    x = response_data['results'][0]['address_components']\n",
    "                    y=(x[-1])\n",
    "                    try:   \n",
    "                        COUNTRY = int(y['long_name'] )\n",
    "                        w = x[-2]\n",
    "                        country = w['long_name']\n",
    "                        L.append(country)\n",
    "                    except:    \n",
    "                        country = (y['long_name'] )\n",
    "                        if country == '846 00' :\n",
    "                            country = 'Greece'\n",
    "                        L.append(country)               \n",
    "                   \n",
    "                except:\n",
    "                    print(\"Response not in valid JSON format\")\n",
    "    except:\n",
    "        print(\"Something went wrong with requests.get\")\n",
    "\n",
    "for i in range(len(L)):\n",
    "    if L[i]=='United States':\n",
    "        L[i] ='usa'\n",
    "    \n",
    "    \n",
    "data['country'] = L"
   ]
  },
  {
   "cell_type": "code",
   "execution_count": 47,
   "id": "4e572732",
   "metadata": {},
   "outputs": [
    {
     "name": "stdout",
     "output_type": "stream",
     "text": [
      "         city      country                                        Description\n",
      "0     Antalya       Turkey  Once seen simply as the gateway to the Turkish...\n",
      "1      Athens       Greece  With equal measures of grunge and grace, Athen...\n",
      "2   Ayia-napa       Cyprus  Endless blue-sky days and a coastline riddled ...\n",
      "3     Bangkok     Thailand  Same same, but different. This Thailish T-shir...\n",
      "4   Barcelona        Spain  Barcelona is an enchanting seaside city with b...\n",
      "..        ...          ...                                                ...\n",
      "71     Venice        Italy  Imagine the audacity of building a city of mar...\n",
      "72     Vienna      Austria  Baroque streetscapes and imperial palaces set ...\n",
      "73     Warsaw       Poland  A phoenix arisen from the ashes, Poland's capi...\n",
      "74  Zakynthos       Greece  Zakynthos, also known by its Italian name Zant...\n",
      "75     Zurich  Switzerland  Culturally vibrant, efficiently run and attrac...\n",
      "\n",
      "[76 rows x 3 columns]\n"
     ]
    }
   ],
   "source": [
    "info_list = list()\n",
    "LP_destantions = pd.DataFrame()  \n",
    "for i,j in zip(data['country']  , data['city_LP']):\n",
    "           \n",
    "          \n",
    "            link = \"https://www.lonelyplanet.com/\" + i +\"/\" + j \n",
    "            from bs4 import BeautifulSoup          \n",
    "            try:\n",
    "                response = requests.get(link)\n",
    "                if not response.status_code == 200:\n",
    "                    info_list.append(\"SOMETHING got wrong with the LP_destantions\")\n",
    "                    print(link)\n",
    "                result_page = BeautifulSoup(response.content,'html.parser')  \n",
    "                for words in result_page.find_all('div',class_= \"readMore_content___5EuR\"):\n",
    "                    info_list.append(words.get_text().replace('\\n',' '))             \n",
    "            except:\n",
    "                \"error\"\n",
    "                \n",
    "                print( \"eroorr\" )\n",
    "LP_destantions['city']=data['city']\n",
    "LP_destantions['country']= L            \n",
    "LP_destantions['Description']  = info_list              \n",
    "\n",
    "print(LP_destantions)\n",
    "\n",
    "LP_destantions.to_csv( \"C:\\\\Users\\\\aviel\\\\Python\\\\Homework\\\\ex3_text.txtLP_destinations.csv',index=False\")\n"
   ]
  },
  {
   "cell_type": "code",
   "execution_count": null,
   "id": "3d299099",
   "metadata": {},
   "outputs": [],
   "source": []
  }
 ],
 "metadata": {
  "kernelspec": {
   "display_name": "Python 3 (ipykernel)",
   "language": "python",
   "name": "python3"
  },
  "language_info": {
   "codemirror_mode": {
    "name": "ipython",
    "version": 3
   },
   "file_extension": ".py",
   "mimetype": "text/x-python",
   "name": "python",
   "nbconvert_exporter": "python",
   "pygments_lexer": "ipython3",
   "version": "3.9.7"
  }
 },
 "nbformat": 4,
 "nbformat_minor": 5
}
